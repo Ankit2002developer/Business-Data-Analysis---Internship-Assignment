{
 "cells": [
  {
   "cell_type": "code",
   "execution_count": 4,
   "metadata": {},
   "outputs": [],
   "source": [
    "import pandas as pd\n",
    "import xlsxwriter"
   ]
  },
  {
   "cell_type": "code",
   "execution_count": 8,
   "metadata": {},
   "outputs": [],
   "source": [
    "file_path = 'Business Data Sample.xlsx'\n",
    "data = pd.read_excel(file_path, sheet_name='Main')"
   ]
  },
  {
   "cell_type": "code",
   "execution_count": 10,
   "metadata": {},
   "outputs": [],
   "source": [
    "# Clean the data: Ensure quantity is positive and calculate revenue\n",
    "data['quantity'] = data['quantity'].abs()\n",
    "data['revenue'] = data['quantity'] * data['amount']"
   ]
  },
  {
   "cell_type": "code",
   "execution_count": 11,
   "metadata": {},
   "outputs": [],
   "source": [
    "# File Path for Output\n",
    "output_file = 'Processed_Business_Data.xlsx'"
   ]
  },
  {
   "cell_type": "code",
   "execution_count": 12,
   "metadata": {},
   "outputs": [
    {
     "name": "stdout",
     "output_type": "stream",
     "text": [
      "Processed Excel file has been saved as Processed_Business_Data.xlsx.\n"
     ]
    }
   ],
   "source": [
    "# Create an Excel file with analyses\n",
    "with pd.ExcelWriter(output_file, engine='xlsxwriter') as writer:\n",
    "    workbook = writer.book\n",
    "\n",
    "    # Save the original data with calculations\n",
    "    data.to_excel(writer, sheet_name='Cleaned Data', index=False)\n",
    "    worksheet_cleaned = writer.sheets['Cleaned Data']\n",
    "\n",
    "    # Apply Conditional Formatting: Highlight high revenue transactions\n",
    "    high_revenue_format = workbook.add_format({'bg_color': '#FFEB9C', 'font_color': '#9C6500'})\n",
    "    worksheet_cleaned.conditional_format('L2:L1048576', {\n",
    "        'type': 'cell',\n",
    "        'criteria': '>',\n",
    "        'value': 1000,\n",
    "        'format': high_revenue_format\n",
    "    })\n",
    "\n",
    "    # 1. Total Revenue by Category and Brand\n",
    "    revenue_by_category_brand = data.groupby(['Category', 'brand'])['revenue'].sum().reset_index()\n",
    "    revenue_by_category_brand.to_excel(writer, sheet_name='Category_Brand_Revenue', index=False)\n",
    "\n",
    "    # 2. Top 5 Customers by Revenue\n",
    "    top_customers = data.groupby(['customer_name', 'customer_code'])['revenue'].sum().nlargest(5).reset_index()\n",
    "    top_customers.to_excel(writer, sheet_name='Top_Customers', index=False)\n",
    "\n",
    "    # 3. Most Frequently Sold Product by Customer Type\n",
    "    most_sold_product_per_customer_type = (\n",
    "        data.groupby(['customer_type', 'upc (Unit per Case)'])['quantity'].sum()\n",
    "        .reset_index()\n",
    "        .sort_values(['customer_type', 'quantity'], ascending=[True, False])\n",
    "        .drop_duplicates(subset=['customer_type'], keep='first')\n",
    "    )\n",
    "    most_sold_product_per_customer_type.to_excel(writer, sheet_name='Most_Sold_Products', index=False)\n",
    "\n",
    "    # 4. City-Wise Trends: Revenue and Transaction Count\n",
    "    city_revenue = data.groupby('City')['revenue'].sum().reset_index()\n",
    "    city_transactions = data['City'].value_counts().reset_index()\n",
    "    city_transactions.columns = ['City', 'Transaction Count']\n",
    "    city_revenue.to_excel(writer, sheet_name='City_Revenue', index=False)\n",
    "    city_transactions.to_excel(writer, sheet_name='City_Transactions', index=False)\n",
    "\n",
    "    # 5. Average Quantity per Transaction for Each Channel\n",
    "    avg_quantity_per_channel = data.groupby('channel_description')['quantity'].mean().reset_index()\n",
    "    avg_quantity_per_channel.to_excel(writer, sheet_name='Avg_Quantity_Channel', index=False)\n",
    "\n",
    "    # 6. Top Reasons for Transactions and Their Revenue Impact\n",
    "    reason_impact = data.groupby('reason for transaction')['revenue'].sum().reset_index()\n",
    "    reason_impact.to_excel(writer, sheet_name='Reason_Impact', index=False)\n",
    "\n",
    "    # 7. Pivot Table: City-wise Revenue and Quantity Trends\n",
    "    pivot_city_revenue_quantity = data.pivot_table(\n",
    "        index='City', values=['revenue', 'quantity'], aggfunc='sum'\n",
    "    ).reset_index()\n",
    "    pivot_city_revenue_quantity.to_excel(writer, sheet_name='Pivot_City_Trends', index=False)\n",
    "\n",
    "# Inform about completion\n",
    "print(f\"Processed Excel file has been saved as {output_file}.\")"
   ]
  }
 ],
 "metadata": {
  "kernelspec": {
   "display_name": "Python 3",
   "language": "python",
   "name": "python3"
  },
  "language_info": {
   "codemirror_mode": {
    "name": "ipython",
    "version": 3
   },
   "file_extension": ".py",
   "mimetype": "text/x-python",
   "name": "python",
   "nbconvert_exporter": "python",
   "pygments_lexer": "ipython3",
   "version": "3.11.4"
  }
 },
 "nbformat": 4,
 "nbformat_minor": 2
}
